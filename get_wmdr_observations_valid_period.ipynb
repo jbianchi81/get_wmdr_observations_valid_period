{
 "cells": [
  {
   "cell_type": "code",
   "execution_count": 1,
   "metadata": {},
   "outputs": [],
   "source": [
    "## set wmdr xml file location\n",
    "file_path = 'examples/20230712_0-404-300-281470731AS00056.xml'"
   ]
  },
  {
   "cell_type": "code",
   "execution_count": 2,
   "metadata": {},
   "outputs": [
    {
     "data": {
      "text/plain": [
       "[{'observedProperty': 'http://codes.wmo.int/wmdr/ObservedVariableAtmosphere/12249',\n",
       "  'beginPosition': '2021-11-24T00:00:00Z',\n",
       "  'endPosition': None},\n",
       " {'observedProperty': 'http://codes.wmo.int/wmdr/ObservedVariableAtmosphere/210',\n",
       "  'beginPosition': '2021-11-24T00:00:00Z',\n",
       "  'endPosition': None},\n",
       " {'observedProperty': 'http://codes.wmo.int/wmdr/ObservedVariableAtmosphere/216',\n",
       "  'beginPosition': '2021-11-24T00:00:00Z',\n",
       "  'endPosition': None},\n",
       " {'observedProperty': 'http://codes.wmo.int/wmdr/ObservedVariableAtmosphere/224',\n",
       "  'beginPosition': '2021-11-24T00:00:00Z',\n",
       "  'endPosition': None},\n",
       " {'observedProperty': 'http://codes.wmo.int/wmdr/ObservedVariableAtmosphere/12005',\n",
       "  'beginPosition': '2021-11-24T00:00:00Z',\n",
       "  'endPosition': None},\n",
       " {'observedProperty': 'http://codes.wmo.int/wmdr/ObservedVariableAtmosphere/12006',\n",
       "  'beginPosition': '2021-11-24T00:00:00Z',\n",
       "  'endPosition': None}]"
      ]
     },
     "execution_count": 2,
     "metadata": {},
     "output_type": "execute_result"
    }
   ],
   "source": [
    "\n",
    "import xml.etree.ElementTree as ET\n",
    "tree = ET.parse(file_path)\n",
    "root = tree.getroot()\n",
    "ns = {\n",
    "    \"gml\": \"http://www.opengis.net/gml/3.2\",\n",
    "    \"xlink\": \"http://www.w3.org/1999/xlink\",\n",
    "    \"wmdr\": \"http://def.wmo.int/wmdr/2017\",\n",
    "    \"gco\": \"http://www.isotc211.org/2005/gco\",\n",
    "    \"gmd\": \"http://www.isotc211.org/2005/gmd\",\n",
    "    \"ns6\": \"http://def.wmo.int/opm/2013\",\n",
    "    \"ns7\": \"http://def.wmo.int/metce/2013\",\n",
    "    \"om\": \"http://www.opengis.net/om/2.0\",\n",
    "    \"ns9\": \"http://www.isotc211.org/2005/gts\",\n",
    "    \"sam\": \"http://www.opengis.net/sampling/2.0\",\n",
    "    \"sams\": \"http://www.opengis.net/samplingSpatial/2.0\",\n",
    "    \"xsi\": \"http://www.w3.org/2001/XMLSchema-instance\"\n",
    "}\n",
    "results = list()\n",
    "for capability in root.findall(\"./wmdr:facility/wmdr:ObservingFacility/wmdr:observation/wmdr:ObservingCapability\",ns):\n",
    "    observedProperty = capability.find(\"wmdr:observation/om:OM_Observation/om:observedProperty\",ns).attrib[\"{http://www.w3.org/1999/xlink}href\"]\n",
    "    beginPosition = capability.find(\"wmdr:observation/om:OM_Observation/om:procedure/wmdr:Process/wmdr:deployment/wmdr:Deployment/wmdr:validPeriod/gml:TimePeriod/gml:beginPosition\",ns).text\n",
    "    endPosition = capability.find(\"wmdr:observation/om:OM_Observation/om:procedure/wmdr:Process/wmdr:deployment/wmdr:Deployment/wmdr:validPeriod/gml:TimePeriod/gml:endPosition\",ns).text\n",
    "    results.append({\n",
    "        \"observedProperty\": observedProperty,\n",
    "        \"beginPosition\": beginPosition,\n",
    "        \"endPosition\": endPosition\n",
    "    })\n",
    "\n",
    "results"
   ]
  },
  {
   "cell_type": "markdown",
   "metadata": {},
   "source": [
    "convert to dataframe"
   ]
  },
  {
   "cell_type": "code",
   "execution_count": 3,
   "metadata": {},
   "outputs": [],
   "source": [
    "import pandas"
   ]
  },
  {
   "cell_type": "code",
   "execution_count": 4,
   "metadata": {},
   "outputs": [
    {
     "data": {
      "text/html": [
       "<div>\n",
       "<style scoped>\n",
       "    .dataframe tbody tr th:only-of-type {\n",
       "        vertical-align: middle;\n",
       "    }\n",
       "\n",
       "    .dataframe tbody tr th {\n",
       "        vertical-align: top;\n",
       "    }\n",
       "\n",
       "    .dataframe thead th {\n",
       "        text-align: right;\n",
       "    }\n",
       "</style>\n",
       "<table border=\"1\" class=\"dataframe\">\n",
       "  <thead>\n",
       "    <tr style=\"text-align: right;\">\n",
       "      <th></th>\n",
       "      <th>observedProperty</th>\n",
       "      <th>beginPosition</th>\n",
       "      <th>endPosition</th>\n",
       "    </tr>\n",
       "  </thead>\n",
       "  <tbody>\n",
       "    <tr>\n",
       "      <th>0</th>\n",
       "      <td>http://codes.wmo.int/wmdr/ObservedVariableAtmo...</td>\n",
       "      <td>2021-11-24T00:00:00Z</td>\n",
       "      <td>None</td>\n",
       "    </tr>\n",
       "    <tr>\n",
       "      <th>1</th>\n",
       "      <td>http://codes.wmo.int/wmdr/ObservedVariableAtmo...</td>\n",
       "      <td>2021-11-24T00:00:00Z</td>\n",
       "      <td>None</td>\n",
       "    </tr>\n",
       "    <tr>\n",
       "      <th>2</th>\n",
       "      <td>http://codes.wmo.int/wmdr/ObservedVariableAtmo...</td>\n",
       "      <td>2021-11-24T00:00:00Z</td>\n",
       "      <td>None</td>\n",
       "    </tr>\n",
       "    <tr>\n",
       "      <th>3</th>\n",
       "      <td>http://codes.wmo.int/wmdr/ObservedVariableAtmo...</td>\n",
       "      <td>2021-11-24T00:00:00Z</td>\n",
       "      <td>None</td>\n",
       "    </tr>\n",
       "    <tr>\n",
       "      <th>4</th>\n",
       "      <td>http://codes.wmo.int/wmdr/ObservedVariableAtmo...</td>\n",
       "      <td>2021-11-24T00:00:00Z</td>\n",
       "      <td>None</td>\n",
       "    </tr>\n",
       "    <tr>\n",
       "      <th>5</th>\n",
       "      <td>http://codes.wmo.int/wmdr/ObservedVariableAtmo...</td>\n",
       "      <td>2021-11-24T00:00:00Z</td>\n",
       "      <td>None</td>\n",
       "    </tr>\n",
       "  </tbody>\n",
       "</table>\n",
       "</div>"
      ],
      "text/plain": [
       "                                    observedProperty         beginPosition  \\\n",
       "0  http://codes.wmo.int/wmdr/ObservedVariableAtmo...  2021-11-24T00:00:00Z   \n",
       "1  http://codes.wmo.int/wmdr/ObservedVariableAtmo...  2021-11-24T00:00:00Z   \n",
       "2  http://codes.wmo.int/wmdr/ObservedVariableAtmo...  2021-11-24T00:00:00Z   \n",
       "3  http://codes.wmo.int/wmdr/ObservedVariableAtmo...  2021-11-24T00:00:00Z   \n",
       "4  http://codes.wmo.int/wmdr/ObservedVariableAtmo...  2021-11-24T00:00:00Z   \n",
       "5  http://codes.wmo.int/wmdr/ObservedVariableAtmo...  2021-11-24T00:00:00Z   \n",
       "\n",
       "  endPosition  \n",
       "0        None  \n",
       "1        None  \n",
       "2        None  \n",
       "3        None  \n",
       "4        None  \n",
       "5        None  "
      ]
     },
     "execution_count": 4,
     "metadata": {},
     "output_type": "execute_result"
    }
   ],
   "source": [
    "df_results = pandas.DataFrame(results)\n",
    "df_results"
   ]
  },
  {
   "cell_type": "markdown",
   "metadata": {},
   "source": [
    "export as csv"
   ]
  },
  {
   "cell_type": "code",
   "execution_count": 6,
   "metadata": {},
   "outputs": [],
   "source": [
    "output_file_path = \"results/observations_valid_period.csv\"\n",
    "df_results.to_csv(output_file_path)"
   ]
  }
 ],
 "metadata": {
  "kernelspec": {
   "display_name": "Python 3.10.12 64-bit",
   "language": "python",
   "name": "python3"
  },
  "language_info": {
   "codemirror_mode": {
    "name": "ipython",
    "version": 3
   },
   "file_extension": ".py",
   "mimetype": "text/x-python",
   "name": "python",
   "nbconvert_exporter": "python",
   "pygments_lexer": "ipython3",
   "version": "3.10.12"
  },
  "orig_nbformat": 4,
  "vscode": {
   "interpreter": {
    "hash": "31f2aee4e71d21fbe5cf8b01ff0e069b9275f58929596ceb00d14d90e3e16cd6"
   }
  }
 },
 "nbformat": 4,
 "nbformat_minor": 2
}
